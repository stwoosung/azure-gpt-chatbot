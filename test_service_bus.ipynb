{
 "cells": [
  {
   "cell_type": "code",
   "execution_count": null,
   "id": "c31a5b8e",
   "metadata": {},
   "outputs": [],
   "source": [
    "from azure.servicebus.aio import ServiceBusClient\n",
    "from azure.servicebus import ServiceBusMessage\n",
    "\n",
    "import json\n",
    "\n",
    "SERVICEBUS_CONNECTION_URL = \"\"\n",
    "\n",
    "servicebus_client = ServiceBusClient.from_connection_string(conn_str=SERVICEBUS_CONNECTION_URL, logging_enable=True)\n",
    "\n",
    "question_data = {\n",
    "    'channel_id': 'sdsad', \n",
    "    'content': '123124124'\n",
    "}\n",
    "\n",
    "async with servicebus_client:\n",
    "    sender = servicebus_client.get_queue_sender(queue_name=\"process-request-queue\")\n",
    "    \n",
    "    async with sender:\n",
    "        message = ServiceBusMessage(json.dumps(question_data))\n",
    "        await sender.send_messages(message)\n"
   ]
  },
  {
   "cell_type": "code",
   "execution_count": null,
   "id": "29fb98cf",
   "metadata": {},
   "outputs": [],
   "source": []
  }
 ],
 "metadata": {
  "kernelspec": {
   "display_name": ".venv",
   "language": "python",
   "name": "python3"
  },
  "language_info": {
   "codemirror_mode": {
    "name": "ipython",
    "version": 3
   },
   "file_extension": ".py",
   "mimetype": "text/x-python",
   "name": "python",
   "nbconvert_exporter": "python",
   "pygments_lexer": "ipython3",
   "version": "3.11.9"
  }
 },
 "nbformat": 4,
 "nbformat_minor": 5
}
