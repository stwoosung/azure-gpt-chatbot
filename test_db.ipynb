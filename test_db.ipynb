{
 "cells": [
  {
   "cell_type": "code",
   "execution_count": null,
   "id": "16728584",
   "metadata": {},
   "outputs": [
    {
     "data": {
      "text/plain": [
       "InsertOneResult(ObjectId('680cb5253f46a76ef1eda058'), acknowledged=True)"
      ]
     },
     "execution_count": 7,
     "metadata": {},
     "output_type": "execute_result"
    }
   ],
   "source": [
    "from motor.motor_asyncio import AsyncIOMotorClient \n",
    "\n",
    "db_client = AsyncIOMotorClient(\"\")\n",
    "db = db_client['woosunggpt']\n",
    "\n",
    "await db.messages.insert_one({\"channel_id\": \"www\", \"content\": \"데이터3\"})"
   ]
  },
  {
   "cell_type": "code",
   "execution_count": 9,
   "id": "20f158b9",
   "metadata": {},
   "outputs": [
    {
     "data": {
      "text/plain": [
       "'asdasd'"
      ]
     },
     "execution_count": 9,
     "metadata": {},
     "output_type": "execute_result"
    }
   ],
   "source": [
    "result = await db.messages.find_one({\"content\": \"데이터1\"})\n",
    "result['channel_id']"
   ]
  },
  {
   "cell_type": "code",
   "execution_count": 11,
   "id": "7eae5075",
   "metadata": {},
   "outputs": [
    {
     "data": {
      "text/plain": [
       "[{'_id': ObjectId('680cb4e93f46a76ef1eda054'),\n",
       "  'channel_id': 'asdasd',\n",
       "  'content': '데이터1'}]"
      ]
     },
     "execution_count": 11,
     "metadata": {},
     "output_type": "execute_result"
    }
   ],
   "source": [
    "result = await db.messages.find({\"content\": \"데이터1\"}).to_list(length=None)\n",
    "result"
   ]
  }
 ],
 "metadata": {
  "kernelspec": {
   "display_name": ".venv",
   "language": "python",
   "name": "python3"
  },
  "language_info": {
   "codemirror_mode": {
    "name": "ipython",
    "version": 3
   },
   "file_extension": ".py",
   "mimetype": "text/x-python",
   "name": "python",
   "nbconvert_exporter": "python",
   "pygments_lexer": "ipython3",
   "version": "3.11.9"
  }
 },
 "nbformat": 4,
 "nbformat_minor": 5
}
